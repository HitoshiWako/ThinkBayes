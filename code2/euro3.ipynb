{
 "cells": [
  {
   "cell_type": "markdown",
   "metadata": {},
   "source": [
    "This file contains code for use with \"Think Bayes\",\n",
    "by Allen B. Downey, available from greenteapress.com\n",
    "\n",
    "Copyright 2012 Allen B. Downey\n",
    "License: GNU GPLv3 http://www.gnu.org/licenses/gpl.html"
   ]
  },
  {
   "cell_type": "markdown",
   "metadata": {},
   "source": [
    "This file contains a partial solution to a problem from\n",
    "MacKay, \"Information Theory, Inference, and Learning Algorithms.\"\n",
    "\n",
    "    Exercise 3.15 (page 50): A statistical statement appeared in\n",
    "    \"The Guardian\" on Friday January 4, 2002:\n",
    "\n",
    "        When spun on edge 250 times, a Belgian one-euro coin came\n",
    "        up heads 140 times and tails 110.  'It looks very suspicious\n",
    "        to me,' said Barry Blight, a statistics lecturer at the London\n",
    "        School of Economics.  'If the coin were unbiased, the chance of\n",
    "        getting a result as extreme as that would be less than 7%.'\n",
    "\n",
    "MacKay asks, \"But do these data give evidence that the coin is biased\n",
    "rather than fair?\""
   ]
  },
  {
   "cell_type": "code",
   "execution_count": 1,
   "metadata": {
    "collapsed": true
   },
   "outputs": [],
   "source": [
    "import thinkbayes2"
   ]
  },
  {
   "cell_type": "code",
   "execution_count": 2,
   "metadata": {
    "collapsed": true
   },
   "outputs": [],
   "source": [
    "class Euro(thinkbayes2.Suite):\n",
    "    \"\"\"Represents hypotheses about the probability of heads.\"\"\"\n",
    "\n",
    "    def Likelihood(self, data, hypo):\n",
    "        \"\"\"Computes the likelihood of the data under the hypothesis.\n",
    "\n",
    "        hypo: integer value of x, the probability of heads (0-100)\n",
    "        data: tuple of (number of heads, number of tails)\n",
    "        \"\"\"\n",
    "        x = hypo / 100.0\n",
    "        heads, tails = data\n",
    "        like = x**heads * (1-x)**tails\n",
    "        return like"
   ]
  },
  {
   "cell_type": "code",
   "execution_count": 3,
   "metadata": {
    "collapsed": true
   },
   "outputs": [],
   "source": [
    "def TrianglePrior():\n",
    "    \"\"\"Makes a Suite with a triangular prior.\"\"\"\n",
    "    suite = Euro()\n",
    "    for x in range(0, 51):\n",
    "        suite.Set(x, x)\n",
    "    for x in range(51, 101):\n",
    "        suite.Set(x, 100-x) \n",
    "    suite.Normalize()\n",
    "    return suite"
   ]
  },
  {
   "cell_type": "code",
   "execution_count": 4,
   "metadata": {
    "collapsed": true
   },
   "outputs": [],
   "source": [
    "def SuiteLikelihood(suite, data):\n",
    "    \"\"\"Computes the weighted average of likelihoods for sub-hypotheses.\n",
    "\n",
    "    suite: Suite that maps sub-hypotheses to probability\n",
    "    data: some representation of the data\n",
    "   \n",
    "    returns: float likelihood\n",
    "    \"\"\"\n",
    "    total = 0\n",
    "    for hypo, prob in suite.Items():\n",
    "        like = suite.Likelihood(data, hypo)\n",
    "        total += prob * like\n",
    "    return total"
   ]
  },
  {
   "cell_type": "code",
   "execution_count": 5,
   "metadata": {
    "collapsed": false
   },
   "outputs": [
    {
     "name": "stdout",
     "output_type": "stream",
     "text": [
      "p(D|F) 5.527147875260445e-76\n",
      "p(D|B_cheat) 3.358289985239045e-75\n",
      "p(D|B_cheat) / p(D|F) 6.075990838368512\n",
      "p(D|B_two) 7.357772729537146e-76\n",
      "p(D|B_two) / p(D|F) 1.3312060570100888\n",
      "p(D|B_uniform) 2.5796490229198124e-76\n",
      "p(D|B_uniform) / p(D|F) 0.4667233591607601\n",
      "p(D|B_tri) 4.617204636646646e-76\n",
      "p(D|B_tri) / p(D|F) 0.8353683926774039\n"
     ]
    }
   ],
   "source": [
    "data = 140, 110\n",
    "\n",
    "suite = Euro()\n",
    "like_f = suite.Likelihood(data, 50)\n",
    "print('p(D|F)', like_f)\n",
    "\n",
    "actual_percent = 100.0 * 140 / 250\n",
    "likelihood = suite.Likelihood(data, actual_percent)\n",
    "print('p(D|B_cheat)', likelihood)\n",
    "print('p(D|B_cheat) / p(D|F)', likelihood / like_f)\n",
    "\n",
    "like40 = suite.Likelihood(data, 40)\n",
    "like60 = suite.Likelihood(data, 60)\n",
    "likelihood = 0.5 * like40 + 0.5 * like60\n",
    "print('p(D|B_two)', likelihood)\n",
    "print('p(D|B_two) / p(D|F)', likelihood / like_f)\n",
    "\n",
    "b_uniform = Euro(range(0, 101))\n",
    "b_uniform.Remove(50)\n",
    "b_uniform.Normalize()\n",
    "likelihood = SuiteLikelihood(b_uniform, data)\n",
    "print('p(D|B_uniform)', likelihood)\n",
    "print('p(D|B_uniform) / p(D|F)', likelihood / like_f)\n",
    "\n",
    "b_tri = TrianglePrior()\n",
    "b_tri.Remove(50)\n",
    "b_tri.Normalize()\n",
    "likelihood = b_tri.Update(data)\n",
    "print('p(D|B_tri)', likelihood)\n",
    "print('p(D|B_tri) / p(D|F)', likelihood / like_f)"
   ]
  },
  {
   "cell_type": "code",
   "execution_count": 7,
   "metadata": {
    "collapsed": false
   },
   "outputs": [
    {
     "name": "stdout",
     "output_type": "stream",
     "text": [
      "p(D|F) 9.5367431640625e-07\n",
      "p(D|B_cheat) 5.092562103304117e-07\n",
      "p(D|B_cheat) / p(D|F) 0.5339938400034218\n",
      "p(D|B_two) 8.541844380057601e-07\n",
      "p(D|B_two) / p(D|F) 0.8956773012663279\n",
      "p(D|B_uniform) 3.6848221070628534e-07\n",
      "p(D|B_uniform) / p(D|F) 0.38638160257355386\n",
      "p(D|B_tri) 5.771013156145966e-07\n",
      "p(D|B_tri) / p(D|F) 0.6051345891218912\n"
     ]
    }
   ],
   "source": [
    "data = 8,12\n",
    "\n",
    "suite = Euro()\n",
    "like_f = suite.Likelihood(data, 50)\n",
    "print('p(D|F)', like_f)\n",
    "\n",
    "actual_percent = 100.0 * 140 / 250\n",
    "likelihood = suite.Likelihood(data, actual_percent)\n",
    "print('p(D|B_cheat)', likelihood)\n",
    "print('p(D|B_cheat) / p(D|F)', likelihood / like_f)\n",
    "\n",
    "like40 = suite.Likelihood(data, 40)\n",
    "like60 = suite.Likelihood(data, 60)\n",
    "likelihood = 0.5 * like40 + 0.5 * like60\n",
    "print('p(D|B_two)', likelihood)\n",
    "print('p(D|B_two) / p(D|F)', likelihood / like_f)\n",
    "\n",
    "b_uniform = Euro(range(0, 101))\n",
    "b_uniform.Remove(50)\n",
    "b_uniform.Normalize()\n",
    "likelihood = SuiteLikelihood(b_uniform, data)\n",
    "print('p(D|B_uniform)', likelihood)\n",
    "print('p(D|B_uniform) / p(D|F)', likelihood / like_f)\n",
    "\n",
    "b_tri = TrianglePrior()\n",
    "b_tri.Remove(50)\n",
    "b_tri.Normalize()\n",
    "likelihood = b_tri.Update(data)\n",
    "print('p(D|B_tri)', likelihood)\n",
    "print('p(D|B_tri) / p(D|F)', likelihood / like_f)"
   ]
  },
  {
   "cell_type": "code",
   "execution_count": null,
   "metadata": {
    "collapsed": true
   },
   "outputs": [],
   "source": []
  }
 ],
 "metadata": {
  "kernelspec": {
   "display_name": "Python 3",
   "language": "python",
   "name": "python3"
  },
  "language_info": {
   "codemirror_mode": {
    "name": "ipython",
    "version": 3
   },
   "file_extension": ".py",
   "mimetype": "text/x-python",
   "name": "python",
   "nbconvert_exporter": "python",
   "pygments_lexer": "ipython3",
   "version": "3.4.2"
  }
 },
 "nbformat": 4,
 "nbformat_minor": 0
}

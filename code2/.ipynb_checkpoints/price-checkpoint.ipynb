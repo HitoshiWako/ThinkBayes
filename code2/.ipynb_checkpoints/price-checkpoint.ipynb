{
 "cells": [
  {
   "cell_type": "markdown",
   "metadata": {},
   "source": [
    "This file contains code for use with \"Think Bayes\",\n",
    "by Allen B. Downey, available from greenteapress.com\n",
    "\n",
    "Copyright 2013 Allen B. Downey\n",
    "License: GNU GPLv3 http://www.gnu.org/licenses/gpl.html"
   ]
  },
  {
   "cell_type": "code",
   "execution_count": 1,
   "metadata": {
    "collapsed": true
   },
   "outputs": [],
   "source": [
    "%matplotlib inline"
   ]
  },
  {
   "cell_type": "code",
   "execution_count": 2,
   "metadata": {
    "collapsed": true
   },
   "outputs": [],
   "source": [
    "import csv\n",
    "import numpy\n",
    "import thinkbayes2\n",
    "import thinkplot\n",
    "\n",
    "import matplotlib.pyplot as pyplot"
   ]
  },
  {
   "cell_type": "code",
   "execution_count": 3,
   "metadata": {
    "collapsed": true
   },
   "outputs": [],
   "source": [
    "def ReadData(filename='showcases.2011.csv'):\n",
    "    \"\"\"Reads a CSV file of data.\n",
    "\n",
    "    Args:\n",
    "      filename: string filename\n",
    "\n",
    "    Returns: sequence of (price1 price2 bid1 bid2 diff1 diff2) tuples\n",
    "    \"\"\"\n",
    "    fp = open(filename)\n",
    "    reader = csv.reader(fp)\n",
    "    res = []\n",
    "\n",
    "    for t in reader:\n",
    "        _heading = t[0]\n",
    "        data = t[1:]\n",
    "        try:\n",
    "            data = [int(x) for x in data]\n",
    "            # print heading, data[0], len(data)\n",
    "            res.append(data)\n",
    "        except ValueError:\n",
    "            pass\n",
    "\n",
    "    fp.close()\n",
    "    return list(zip(*res))"
   ]
  },
  {
   "cell_type": "code",
   "execution_count": 4,
   "metadata": {
    "collapsed": false
   },
   "outputs": [],
   "source": [
    "class Price(thinkbayes2.Suite):\n",
    "    \"\"\"Represents hypotheses about the price of a showcase.\"\"\"\n",
    "    \n",
    "    def __init__(self, pmf, player, name=''):\n",
    "        \"\"\"Constructs the suite.\n",
    "\n",
    "        pmf: prior distribution of price\n",
    "        player: Player object\n",
    "        name: string\n",
    "        \"\"\"\n",
    "        thinkbayes2.Suite.__init__(self, pmf, label=name)\n",
    "        self.player = player\n",
    "\n",
    "    def Likelihood(self, data, hypo):\n",
    "        \"\"\"Computes the likelihood of the data under the hypothesis.\n",
    "\n",
    "        hypo: actual price\n",
    "        data: the contestant's guess\n",
    "        \"\"\"\n",
    "        price = hypo\n",
    "        guess = data\n",
    "\n",
    "        error = price - guess\n",
    "        like = self.player.ErrorDensity(error)\n",
    "\n",
    "        return like"
   ]
  },
  {
   "cell_type": "code",
   "execution_count": 5,
   "metadata": {
    "collapsed": true
   },
   "outputs": [],
   "source": [
    "class GainCalculator(object):\n",
    "    \"\"\"Encapsulates computation of expected gain.\"\"\"\n",
    "\n",
    "    def __init__(self, player, opponent):\n",
    "        \"\"\"Constructs the calculator.\n",
    "\n",
    "        player: Player\n",
    "        opponent: Player\n",
    "        \"\"\"\n",
    "        self.player = player\n",
    "        self.opponent = opponent\n",
    "        \n",
    "    def ExpectedGains(self, low=0, high=75000, n=101):\n",
    "        \"\"\"Computes expected gains for a range of bids.\n",
    "\n",
    "        low: low bid\n",
    "        high: high bid\n",
    "        n: number of bids to evaluates\n",
    "\n",
    "        returns: tuple (sequence of bids, sequence of gains)\n",
    "    \n",
    "        \"\"\"\n",
    "        bids = numpy.linspace(low, high, n)\n",
    "\n",
    "        gains = [self.ExpectedGain(bid) for bid in bids]\n",
    "\n",
    "        return bids, gains\n",
    "\n",
    "    def ExpectedGain(self, bid):\n",
    "        \"\"\"Computes the expected return of a given bid.\n",
    "\n",
    "        bid: your bid\n",
    "        \"\"\"\n",
    "        suite = self.player.posterior\n",
    "        total = 0\n",
    "        for price, prob in sorted(suite.Items()):\n",
    "            gain = self.Gain(bid, price)\n",
    "            total += prob * gain\n",
    "        return total\n",
    " \n",
    "    def Gain(self, bid, price):\n",
    "        \"\"\"Computes the return of a bid, given the actual price.\n",
    "\n",
    "        bid: number\n",
    "        price: actual price\n",
    "        \"\"\"\n",
    "        # if you overbid, you get nothing\n",
    "        if bid > price:\n",
    "            return 0\n",
    "\n",
    "        # otherwise compute the probability of winning\n",
    "        diff = price - bid\n",
    "        prob = self.ProbWin(diff)\n",
    "\n",
    "        # if you are within 250 dollars, you win both showcases\n",
    "        if diff <= 250:\n",
    "            return 2 * price * prob\n",
    "        else:\n",
    "            return price * prob\n",
    "\n",
    "    def ProbWin(self, diff):\n",
    "        \"\"\"Computes the probability of winning for a given diff.\n",
    "\n",
    "        diff: how much your bid was off by\n",
    "        \"\"\"\n",
    "        prob = (self.opponent.ProbOverbid() + \n",
    "                self.opponent.ProbWorseThan(diff))\n",
    "        return prob    "
   ]
  },
  {
   "cell_type": "code",
   "execution_count": 6,
   "metadata": {
    "collapsed": true
   },
   "outputs": [],
   "source": [
    "class Player(object):\n",
    "    \"\"\"Represents a player on The Price is Right.\"\"\"\n",
    "\n",
    "    def __init__(self, prices, bids, diffs):\n",
    "        \"\"\"Construct the Player.\n",
    "\n",
    "        prices: sequence of prices\n",
    "        bids: sequence of bids\n",
    "        diffs: sequence of underness (negative means over)\n",
    "        \"\"\"\n",
    "        self.pdf_price = thinkbayes2.EstimatedPdf(prices)\n",
    "        self.cdf_diff = thinkbayes2.MakeCdfFromList(diffs)\n",
    "\n",
    "        mu = 0\n",
    "        sigma = numpy.std(diffs)\n",
    "        self.pdf_error = thinkbayes2.NormalPdf(mu, sigma)\n",
    " \n",
    "    def ErrorDensity(self, error):\n",
    "        \"\"\"Density of the given error in the distribution of error.\n",
    "\n",
    "        error: how much the bid is under the actual price\n",
    "        \"\"\"\n",
    "        return self.pdf_error.Density(error)\n",
    "    \n",
    "    def PmfPrice(self):\n",
    "        \"\"\"Returns a new Pmf of prices.\n",
    "\n",
    "        A discrete version of the estimated Pdf.\n",
    "        \"\"\"\n",
    "        return self.pdf_price.MakePmf(low=0, high=75000,n=101)\n",
    "\n",
    "    def CdfDiff(self):\n",
    "        \"\"\"Returns a reference to the Cdf of differences (underness).\n",
    "        \"\"\"\n",
    "        return self.cdf_diff\n",
    "    \n",
    "    def ProbOverbid(self):\n",
    "        \"\"\"Returns the probability this player overbids.\n",
    "        \"\"\"\n",
    "        return self.cdf_diff.Prob(-1)\n",
    "\n",
    "    def ProbWorseThan(self, diff):\n",
    "        \"\"\"Probability this player's diff is greater than the given diff.\n",
    "\n",
    "        diff: how much the oppenent is off by (always positive)\n",
    "        \"\"\"\n",
    "        return 1 - self.cdf_diff.Prob(diff)\n",
    "\n",
    "    def MakeBeliefs(self, guess):\n",
    "        \"\"\"Makes a posterior distribution based on estimated price.\n",
    "\n",
    "        Sets attributes prior and posterior.\n",
    "\n",
    "        guess: what the player thinks the showcase is worth        \n",
    "        \"\"\"\n",
    "        pmf = self.PmfPrice()\n",
    "        self.prior = Price(pmf, self, name='prior')\n",
    "        self.posterior = self.prior.Copy(label='posterior')\n",
    "        self.posterior.Update(guess)\n",
    "\n",
    "    def OptimalBid(self, guess, opponent):\n",
    "        \"\"\"Computes the bid that maximizes expected return.\n",
    "        \n",
    "        guess: what the player thinks the showcase is worth \n",
    "        opponent: Player\n",
    "\n",
    "        Returns: (optimal bid, expected gain)\n",
    "        \"\"\"\n",
    "        self.MakeBeliefs(guess)\n",
    "        calc = GainCalculator(self, opponent)\n",
    "        bids, gains = calc.ExpectedGains()\n",
    "        gain, bid = max(zip(gains, bids))\n",
    "        return bid, gain\n",
    "    \n",
    "    def PlotBeliefs(self, root):\n",
    "        \"\"\"Plots prior and posterior beliefs.\n",
    "\n",
    "        root: string filename root for saved figure\n",
    "        \"\"\"\n",
    "        thinkplot.PrePlot(num=2)\n",
    "        thinkplot.Pmfs([self.prior, self.posterior])\n",
    "        thinkplot.Config(xlabel='price ($)', ylabel='PMF')\n",
    "    "
   ]
  },
  {
   "cell_type": "code",
   "execution_count": 24,
   "metadata": {
    "collapsed": true
   },
   "outputs": [],
   "source": [
    "def MakePlots(player1, player2):\n",
    "    \"\"\"Generates two plots.\n",
    "\n",
    "    price1 shows the priors for the two players\n",
    "    price2 shows the distribution of diff for the two players\n",
    "    \"\"\"\n",
    "\n",
    "    # plot the prior distribution of price for both players\n",
    "    thinkplot.PrePlot(num=2,cols=2)\n",
    "    thinkplot.SubPlot(1)\n",
    "    pmf1 = player1.PmfPrice()\n",
    "    pmf1.name = 'showcase 1'\n",
    "    pmf2 = player2.PmfPrice()\n",
    "    pmf2.name = 'showcase 2'\n",
    "    thinkplot.Pmfs([pmf1, pmf2])\n",
    "    thinkplot.Config(xlabel='price ($)', ylabel='PDF')\n",
    "\n",
    "    # plot the historical distribution of underness for both players\n",
    "    thinkplot.SubPlot(2)\n",
    "    cdf1 = player1.CdfDiff()\n",
    "    cdf1.name = 'player 1'\n",
    "    cdf2 = player2.CdfDiff()\n",
    "    cdf2.name = 'player 2'   \n",
    "\n",
    "    print('Player median', cdf1.Percentile(50))\n",
    "    print('Player median', cdf2.Percentile(50))\n",
    "\n",
    "    print('Player 1 overbids', player1.ProbOverbid())\n",
    "    print('Player 2 overbids', player2.ProbOverbid())\n",
    "\n",
    "    thinkplot.Cdfs([cdf1, cdf2])\n",
    "    thinkplot.Config(xlabel='diff ($)', ylabel='CDF')"
   ]
  },
  {
   "cell_type": "code",
   "execution_count": 8,
   "metadata": {
    "collapsed": true
   },
   "outputs": [],
   "source": [
    "def MakePlayers():\n",
    "    \"\"\"Reads data and makes player objects.\"\"\"\n",
    "    data = ReadData(filename='showcases.2011.csv')\n",
    "    data += ReadData(filename='showcases.2012.csv')\n",
    "\n",
    "    cols = list(zip(*data))\n",
    "    price1, price2, bid1, bid2, diff1, diff2 = cols\n",
    "\n",
    "    # print list(sorted(price1))\n",
    "    # print len(price1)\n",
    "\n",
    "    player1 = Player(price1, bid1, diff1)\n",
    "    player2 = Player(price2, bid2, diff2)\n",
    "\n",
    "    return player1, player2"
   ]
  },
  {
   "cell_type": "code",
   "execution_count": 28,
   "metadata": {
    "collapsed": false
   },
   "outputs": [],
   "source": [
    "def PlotExpectedGains(guess1=20000, guess2=40000):\n",
    "    \"\"\"Plots expected gains as a function of bid.\n",
    "\n",
    "    guess1: player1's estimate of the price of showcase 1\n",
    "    guess2: player2's estimate of the price of showcase 2\n",
    "    \"\"\"\n",
    "    player1, player2 = MakePlayers()\n",
    "    MakePlots(player1, player2)\n",
    "    \n",
    "    player1.MakeBeliefs(guess1)\n",
    "    player2.MakeBeliefs(guess2)\n",
    "\n",
    "    print('Player 1 prior mle', player1.prior.MaximumLikelihood())\n",
    "    print('Player 2 prior mle', player2.prior.MaximumLikelihood())\n",
    "    print('Player 1 mean', player1.posterior.Mean())\n",
    "    print('Player 2 mean', player2.posterior.Mean())\n",
    "    print('Player 1 mle', player1.posterior.MaximumLikelihood())\n",
    "    print('Player 2 mle', player2.posterior.MaximumLikelihood())\n",
    "\n",
    "    \"\"\"player1.PlotBeliefs('price3')\n",
    "    player2.PlotBeliefs('price4')\n",
    "\n",
    "    calc1 = GainCalculator(player1, player2)\n",
    "    calc2 = GainCalculator(player2, player1)\n",
    "\n",
    "    thinkplot.PrePlot(num=2,cols=2)\n",
    "\n",
    "    bids, gains = calc1.ExpectedGains()\n",
    "    thinkplot.Plot(bids, gains, label='Player 1')\n",
    "    print('Player 1 optimal bid', max(zip(gains, bids)))\n",
    "\n",
    "    bids, gains = calc2.ExpectedGains()\n",
    "    thinkplot.Plot(bids, gains, label='Player 2')\n",
    "    print('Player 2 optimal bid', max(zip(gains, bids)))\n",
    "\n",
    "    thinkplot.Config(xlabel='bid ($)',ylabel='expected gain ($)')\"\"\"\n",
    "    "
   ]
  },
  {
   "cell_type": "code",
   "execution_count": 10,
   "metadata": {
    "collapsed": true
   },
   "outputs": [],
   "source": [
    "def PlotOptimalBid():\n",
    "    \"\"\"Plots optimal bid vs estimated price.\n",
    "    \"\"\"\n",
    "    player1, player2 = MakePlayers()\n",
    "    guesses = numpy.linspace(15000, 60000, 21)\n",
    "\n",
    "    res = []\n",
    "    for guess in guesses:\n",
    "        player1.MakeBeliefs(guess)\n",
    "\n",
    "        mean = player1.posterior.Mean()\n",
    "        mle = player1.posterior.MaximumLikelihood()\n",
    "        \n",
    "        calc = GainCalculator(player1, player2)\n",
    "        bids, gains = calc.ExpectedGains()\n",
    "        gain, bid = max(zip(gains, bids))\n",
    "\n",
    "        res.append((guess, mean, mle, gain, bid))\n",
    "\n",
    "    guesses, means, _mles, gains, bids = list(zip(*res))\n",
    "    \n",
    "    thinkplot.PrePlot(num=3)\n",
    "    pyplot.plot([15000, 60000], [15000, 60000], color='gray')\n",
    "    thinkplot.Plot(guesses, means, label='mean')\n",
    "    #thinkplot.Plot(guesses, mles, label='MLE')\n",
    "    thinkplot.Plot(guesses, bids, label='bid')\n",
    "    thinkplot.Plot(guesses, gains, label='gain')\n",
    "    thinkplot.Config(xlabel='guessed price ($)')"
   ]
  },
  {
   "cell_type": "code",
   "execution_count": 11,
   "metadata": {
    "collapsed": true
   },
   "outputs": [],
   "source": [
    "def TestCode(calc):\n",
    "    \"\"\"Check some intermediate results.\n",
    "\n",
    "    calc: GainCalculator\n",
    "    \"\"\"\n",
    "    # test ProbWin\n",
    "    for diff in [0, 100, 1000, 10000, 20000]:\n",
    "        print(diff, calc.ProbWin(diff))\n",
    "    print()\n",
    "\n",
    "    # test Return\n",
    "    price = 20000\n",
    "    for bid in [17000, 18000, 19000, 19500, 19800, 20001]:\n",
    "        print(bid, calc.Gain(bid, price))\n",
    "    print()"
   ]
  },
  {
   "cell_type": "code",
   "execution_count": 29,
   "metadata": {
    "collapsed": false,
    "scrolled": false
   },
   "outputs": [
    {
     "name": "stderr",
     "output_type": "stream",
     "text": [
      "/usr/lib/python3/dist-packages/matplotlib/axes/_axes.py:476: UserWarning: No labelled objects found. Use label='...' kwarg on individual plots.\n",
      "  warnings.warn(\"No labelled objects found. \"\n"
     ]
    },
    {
     "name": "stdout",
     "output_type": "stream",
     "text": [
      "Player median 3902\n",
      "Player median 3136\n",
      "Player 1 overbids 0.246006389776\n",
      "Player 2 overbids 0.290734824281\n",
      "Player 1 prior mle 27750.0\n",
      "Player 2 prior mle 27750.0\n",
      "Player 1 mean 25096.4118162\n",
      "Player 2 mean 35641.2168697\n",
      "Player 1 mle 24000.0\n",
      "Player 2 mle 35250.0\n"
     ]
    },
    {
     "data": {
      "image/png": "[encoded data removed]",
      "text/plain": [
       "<matplotlib.figure.Figure at 0x6cdee490>"
      ]
     },
     "metadata": {},
     "output_type": "display_data"
    }
   ],
   "source": [
    "PlotExpectedGains()"
   ]
  },
  {
   "cell_type": "code",
   "execution_count": null,
   "metadata": {
    "collapsed": true
   },
   "outputs": [],
   "source": []
  }
 ],
 "metadata": {
  "kernelspec": {
   "display_name": "Python 3",
   "language": "python",
   "name": "python3"
  },
  "language_info": {
   "codemirror_mode": {
    "name": "ipython",
    "version": 3
   },
   "file_extension": ".py",
   "mimetype": "text/x-python",
   "name": "python",
   "nbconvert_exporter": "python",
   "pygments_lexer": "ipython3",
   "version": "3.4.2"
  }
 },
 "nbformat": 4,
 "nbformat_minor": 2
}

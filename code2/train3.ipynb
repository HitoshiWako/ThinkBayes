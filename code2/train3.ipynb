{
 "cells": [
  {
   "cell_type": "markdown",
   "metadata": {},
   "source": [
    "This file contains code for use with \"Think Bayes\",\n",
    "by Allen B. Downey, available from greenteapress.com\n",
    "\n",
    "Copyright 2012 Allen B. Downey\n",
    "License: GNU GPLv3 http://www.gnu.org/licenses/gpl.html"
   ]
  },
  {
   "cell_type": "code",
   "execution_count": 1,
   "metadata": {
    "collapsed": true
   },
   "outputs": [],
   "source": [
    "%matplotlib inline"
   ]
  },
  {
   "cell_type": "code",
   "execution_count": 2,
   "metadata": {
    "collapsed": false
   },
   "outputs": [],
   "source": [
    "import thinkplot\n",
    "import thinkbayes2\n",
    "from thinkbayes2 import Suite,Pmf"
   ]
  },
  {
   "cell_type": "code",
   "execution_count": 3,
   "metadata": {
    "collapsed": true
   },
   "outputs": [],
   "source": [
    "def Percentile(pmf, percentage):\n",
    "    \"\"\"Computes a percentile of a given Pmf.\n",
    "\n",
    "    percentage: float 0-100\n",
    "    \"\"\"\n",
    "    p = percentage / 100.0\n",
    "    total = 0\n",
    "    for val, prob in pmf.Items():\n",
    "        total += prob\n",
    "        if total >= p:\n",
    "            return val"
   ]
  },
  {
   "cell_type": "code",
   "execution_count": 4,
   "metadata": {
    "collapsed": false
   },
   "outputs": [],
   "source": [
    "class Dice(Suite):\n",
    "    \"\"\"Represents hypotheses about which die was rolled.\"\"\"\n",
    "\n",
    "    def Likelihood(self, data, hypo):\n",
    "        \"\"\"Computes the likelihood of the data under the hypothesis.\n",
    "\n",
    "        hypo: integer number of sides on the die\n",
    "        data: integer die roll\n",
    "        \"\"\"\n",
    "        if hypo < data:\n",
    "            return 0\n",
    "        else:\n",
    "            return 1.0/hypo"
   ]
  },
  {
   "cell_type": "code",
   "execution_count": 5,
   "metadata": {
    "collapsed": false,
    "scrolled": true
   },
   "outputs": [],
   "source": [
    "class Train(Dice):\n",
    "    \"\"\"Represents hypotheses about how many trains the company has.\"\"\""
   ]
  },
  {
   "cell_type": "code",
   "execution_count": 6,
   "metadata": {
    "collapsed": false
   },
   "outputs": [],
   "source": [
    "class Train2(Dice):\n",
    "    \"\"\"Represents hypotheses about how many trains the company has.\"\"\"\n",
    "\n",
    "    def __init__(self, hypos, alpha=1.0):\n",
    "        \"\"\"Initializes the hypotheses with a power law distribution.\n",
    "\n",
    "        hypos: sequence of hypotheses\n",
    "        alpha: parameter of the power law prior\n",
    "        \"\"\"\n",
    "        Pmf.__init__(self)\n",
    "        for hypo in hypos:\n",
    "            self.Set(hypo, hypo**(-alpha))\n",
    "        self.Normalize()"
   ]
  },
  {
   "cell_type": "code",
   "execution_count": 7,
   "metadata": {
    "collapsed": true
   },
   "outputs": [],
   "source": [
    "def MakePosterior(high, dataset, constructor):\n",
    "    \"\"\"Makes and updates a Suite.\n",
    "\n",
    "    high: upper bound on the range of hypotheses\n",
    "    dataset: observed data to use for the update\n",
    "    constructor: function that makes a new suite\n",
    "\n",
    "    Returns: posterior Suite\n",
    "    \"\"\"\n",
    "    hypos = range(1, high+1)\n",
    "    suite = constructor(hypos)\n",
    "    suite.name = str(high)\n",
    "\n",
    "    for data in dataset:\n",
    "        suite.Update(data)\n",
    "\n",
    "    return suite"
   ]
  },
  {
   "cell_type": "code",
   "execution_count": 8,
   "metadata": {
    "collapsed": true
   },
   "outputs": [],
   "source": [
    "def ComparePriors():\n",
    "    \"\"\"Runs the analysis with two different priors and compares them.\"\"\"\n",
    "    dataset = [60]\n",
    "    high = 1000\n",
    "\n",
    "    thinkplot.Clf()\n",
    "    thinkplot.PrePlot(num=2)\n",
    "\n",
    "    constructors = [Train, Train2]\n",
    "    labels = ['uniform', 'power law']\n",
    "\n",
    "    for constructor, label in zip(constructors, labels):\n",
    "        suite = MakePosterior(high, dataset, constructor)\n",
    "        suite.label = label\n",
    "        thinkplot.Pmf(suite)\n",
    "\n",
    "    thinkplot.Config(xlabel='Number of trains',\n",
    "                     ylabel='Probability')"
   ]
  },
  {
   "cell_type": "code",
   "execution_count": null,
   "metadata": {
    "collapsed": true
   },
   "outputs": [],
   "source": [
    "def Mean(suite):\n",
    "    total = 0\n",
    "    for hypo, prob in suite.Items():\n",
    "        total += hypo * prob\n",
    "    return to"
   ]
  },
  {
   "cell_type": "code",
   "execution_count": 9,
   "metadata": {
    "collapsed": false
   },
   "outputs": [
    {
     "name": "stdout",
     "output_type": "stream",
     "text": [
      "500 130.70846986256004\n",
      "1000 133.2752313750312\n",
      "2000 133.99746308073065\n",
      "(91, 243)\n",
      "(91, 243)\n"
     ]
    },
    {
     "data": {
      "image/png": "[encoded data removed]",
      "text/plain": [
       "<matplotlib.figure.Figure at 0x6c2d8f30>"
      ]
     },
     "metadata": {},
     "output_type": "display_data"
    }
   ],
   "source": [
    "    ComparePriors()\n",
    "\n",
    "    dataset = [30, 60, 90]\n",
    "\n",
    "    thinkplot.PrePlot(num=3)\n",
    "\n",
    "    for high in [500, 1000, 2000]:\n",
    "        suite = MakePosterior(high, dataset, Train2)\n",
    "        print(high, suite.Mean())\n",
    "\n",
    "    thinkplot.Config(xlabel='Number of trains',\n",
    "                   ylabel='Probability')\n",
    "\n",
    "    interval = Percentile(suite, 5), Percentile(suite, 95)\n",
    "    print(interval)\n",
    "\n",
    "    cdf = thinkbayes2.MakeCdfFromPmf(suite)\n",
    "    interval = cdf.Percentile(5), cdf.Percentile(95)\n",
    "    print(interval)\n",
    "\n"
   ]
  }
 ],
 "metadata": {
  "kernelspec": {
   "display_name": "Python 3",
   "language": "python",
   "name": "python3"
  },
  "language_info": {
   "codemirror_mode": {
    "name": "ipython",
    "version": 3
   },
   "file_extension": ".py",
   "mimetype": "text/x-python",
   "name": "python",
   "nbconvert_exporter": "python",
   "pygments_lexer": "ipython3",
   "version": "3.4.2"
  }
 },
 "nbformat": 4,
 "nbformat_minor": 0
}

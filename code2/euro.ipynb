{
 "cells": [
  {
   "cell_type": "markdown",
   "metadata": {},
   "source": [
    "This file contains code for use with \"Think Bayes\",\n",
    "by Allen B. Downey, available from greenteapress.com\n",
    "\n",
    "Copyright 2012 Allen B. Downey\n",
    "License: GNU GPLv3 http://www.gnu.org/licenses/gpl.html"
   ]
  },
  {
   "cell_type": "markdown",
   "metadata": {},
   "source": [
    "This file contains a partial solution to a problem from\n",
    "MacKay, \"Information Theory, Inference, and Learning Algorithms.\"\n",
    "\n",
    "    Exercise 3.15 (page 50): A statistical statement appeared in\n",
    "    \"The Guardian\" on Friday January 4, 2002:\n",
    "\n",
    "        When spun on edge 250 times, a Belgian one-euro coin came\n",
    "        up heads 140 times and tails 110.  'It looks very suspicious\n",
    "        to me,' said Barry Blight, a statistics lecturer at the London\n",
    "        School of Economics.  'If the coin were unbiased, the chance of\n",
    "        getting a result as extreme as that would be less than 7%.'\n",
    "\n",
    "MacKay asks, \"But do these data give evidence that the coin is biased\n",
    "rather than fair?\""
   ]
  },
  {
   "cell_type": "code",
   "execution_count": 1,
   "metadata": {
    "collapsed": true
   },
   "outputs": [],
   "source": [
    "%matplotlib inline"
   ]
  },
  {
   "cell_type": "code",
   "execution_count": 2,
   "metadata": {
    "collapsed": true
   },
   "outputs": [],
   "source": [
    "import thinkbayes2\n",
    "import thinkplot"
   ]
  },
  {
   "cell_type": "code",
   "execution_count": 13,
   "metadata": {
    "collapsed": true
   },
   "outputs": [],
   "source": [
    "def Percentile(pmf, percentage):\n",
    "    \"\"\"Computes a percentile of a given Pmf.\n",
    "\n",
    "    percentage: float 0-100\n",
    "    \"\"\"\n",
    "    p = percentage / 100.0\n",
    "    total = 0\n",
    "    for val, prob in pmf.Items():\n",
    "        total += prob\n",
    "        if total >= p:\n",
    "            return val"
   ]
  },
  {
   "cell_type": "code",
   "execution_count": 3,
   "metadata": {
    "collapsed": true
   },
   "outputs": [],
   "source": [
    "class Euro(thinkbayes2.Suite):\n",
    "    \"\"\"Represents hypotheses about the probability of heads.\"\"\"\n",
    "\n",
    "    def Likelihood(self, data, hypo):\n",
    "        \"\"\"Computes the likelihood of the data under the hypothesis.\n",
    "\n",
    "        hypo: integer value of x, the probability of heads (0-100)\n",
    "        data: string 'H' or 'T'\n",
    "        \"\"\"\n",
    "        x = hypo / 100.0\n",
    "        if data == 'H':\n",
    "            return x\n",
    "        else:\n",
    "            return 1-x"
   ]
  },
  {
   "cell_type": "code",
   "execution_count": 4,
   "metadata": {
    "collapsed": true
   },
   "outputs": [],
   "source": [
    "class Euro2(thinkbayes2.Suite):\n",
    "    \"\"\"Represents hypotheses about the probability of heads.\"\"\"\n",
    "\n",
    "    def Likelihood(self, data, hypo):\n",
    "        \"\"\"Computes the likelihood of the data under the hypothesis.\n",
    "\n",
    "        hypo: integer value of x, the probability of heads (0-100)\n",
    "        data: tuple of (number of heads, number of tails)\n",
    "        \"\"\"\n",
    "        x = hypo / 100.0\n",
    "        heads, tails = data\n",
    "        like = x**heads * (1-x)**tails\n",
    "        return like"
   ]
  },
  {
   "cell_type": "code",
   "execution_count": 5,
   "metadata": {
    "collapsed": true
   },
   "outputs": [],
   "source": [
    "def UniformPrior():\n",
    "    \"\"\"Makes a Suite with a uniform prior.\"\"\"\n",
    "    suite = Euro(range(0, 101))\n",
    "    return suite"
   ]
  },
  {
   "cell_type": "code",
   "execution_count": 6,
   "metadata": {
    "collapsed": true
   },
   "outputs": [],
   "source": [
    "def TrianglePrior():\n",
    "    \"\"\"Makes a Suite with a triangular prior.\"\"\"\n",
    "    suite = Euro()\n",
    "    for x in range(0, 51):\n",
    "        suite.Set(x, x)\n",
    "    for x in range(51, 101):\n",
    "        suite.Set(x, 100-x) \n",
    "    suite.Normalize()\n",
    "    return suite"
   ]
  },
  {
   "cell_type": "code",
   "execution_count": 7,
   "metadata": {
    "collapsed": true
   },
   "outputs": [],
   "source": [
    "def RunUpdate(suite, heads=140, tails=110):\n",
    "    \"\"\"Updates the Suite with the given number of heads and tails.\n",
    "\n",
    "    suite: Suite object\n",
    "    heads: int\n",
    "    tails: int\n",
    "    \"\"\"\n",
    "    dataset = 'H' * heads + 'T' * tails\n",
    "    for data in dataset:\n",
    "        suite.Update(data)\n",
    "\n"
   ]
  },
  {
   "cell_type": "code",
   "execution_count": 14,
   "metadata": {
    "collapsed": false,
    "scrolled": true
   },
   "outputs": [],
   "source": [
    "def Summarize(suite):\n",
    "    \"\"\"Prints summary statistics for the suite.\"\"\"\n",
    "    print(suite.Prob(50))\n",
    "\n",
    "    print('MLE', suite.MaximumLikelihood())\n",
    "\n",
    "    print('Mean', suite.Mean())\n",
    "    print('Median', Percentile(suite, 50))\n",
    "\n",
    "    print('5th %ile', Percentile(suite, 5))\n",
    "    print('95th %ile', Percentile(suite, 95))\n",
    "\n",
    "    print('CI', thinkbayes2.CredibleInterval(suite,90))"
   ]
  },
  {
   "cell_type": "code",
   "execution_count": 9,
   "metadata": {
    "collapsed": true
   },
   "outputs": [],
   "source": [
    "def PlotSuites(suites, root):\n",
    "    \"\"\"Plots two suites.\n",
    "\n",
    "    suite1, suite2: Suite objects\n",
    "    root: string filename to write\n",
    "    \"\"\"\n",
    "    thinkplot.PrePlot(len(suites))\n",
    "    thinkplot.Pmfs(suites)\n",
    "\n",
    "    thinkplot.Config( xlabel='x',\n",
    "                     ylabel='Probability')\n"
   ]
  },
  {
   "cell_type": "code",
   "execution_count": 16,
   "metadata": {
    "collapsed": false
   },
   "outputs": [
    {
     "data": {
      "image/png": "[encoded data removed]",
      "text/plain": [
       "<matplotlib.figure.Figure at 0x6c177330>"
      ]
     },
     "metadata": {},
     "output_type": "display_data"
    }
   ],
   "source": [
    "suite1 = UniformPrior()\n",
    "suite1.label = 'uniform'\n",
    "\n",
    "suite2 = TrianglePrior()\n",
    "suite2.label = 'triangle'\n",
    "\n",
    "    # plot the priors\n",
    "PlotSuites([suite1, suite2], 'euro2')"
   ]
  },
  {
   "cell_type": "code",
   "execution_count": 19,
   "metadata": {
    "collapsed": false
   },
   "outputs": [
    {
     "name": "stdout",
     "output_type": "stream",
     "text": [
      "0.0009822003927973451\n",
      "MLE 56\n",
      "Mean 55.9840425531915\n",
      "Median 56\n",
      "5th %ile 53\n",
      "95th %ile 59\n",
      "CI (53, 59)\n"
     ]
    },
    {
     "data": {
      "image/png": "[encoded data removed]",
      "text/plain": [
       "<matplotlib.figure.Figure at 0x6c1546f0>"
      ]
     },
     "metadata": {},
     "output_type": "display_data"
    }
   ],
   "source": [
    "    # update\n",
    "RunUpdate(suite1)\n",
    "Summarize(suite1)\n",
    "PlotSuites([suite1], 'euro1')"
   ]
  },
  {
   "cell_type": "code",
   "execution_count": 21,
   "metadata": {
    "collapsed": false
   },
   "outputs": [
    {
     "name": "stdout",
     "output_type": "stream",
     "text": [
      "0.0011157409279070817\n",
      "MLE 56\n",
      "Mean 55.909750487433186\n",
      "Median 56\n",
      "5th %ile 53\n",
      "95th %ile 59\n",
      "CI (53, 59)\n"
     ]
    },
    {
     "data": {
      "image/png": "[encoded data removed]",
      "text/plain": [
       "<matplotlib.figure.Figure at 0x6c0a8370>"
      ]
     },
     "metadata": {},
     "output_type": "display_data"
    }
   ],
   "source": [
    "RunUpdate(suite2)\n",
    "Summarize(suite2)\n",
    "\n",
    "    # plot the posteriors\n",
    "PlotSuites([suite1, suite2], 'euro3')"
   ]
  },
  {
   "cell_type": "code",
   "execution_count": null,
   "metadata": {
    "collapsed": true
   },
   "outputs": [],
   "source": []
  }
 ],
 "metadata": {
  "kernelspec": {
   "display_name": "Python 3",
   "language": "python",
   "name": "python3"
  },
  "language_info": {
   "codemirror_mode": {
    "name": "ipython",
    "version": 3
   },
   "file_extension": ".py",
   "mimetype": "text/x-python",
   "name": "python",
   "nbconvert_exporter": "python",
   "pygments_lexer": "ipython3",
   "version": "3.4.2"
  }
 },
 "nbformat": 4,
 "nbformat_minor": 0
}

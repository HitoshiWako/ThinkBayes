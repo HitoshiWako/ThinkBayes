{
 "cells": [
  {
   "cell_type": "markdown",
   "metadata": {},
   "source": [
    "This file contains code for use with \"Think Bayes\",\n",
    "by Allen B. Downey, available from greenteapress.com\n",
    "\n",
    "Copyright 2012 Allen B. Downey\n",
    "License: GNU GPLv3 http://www.gnu.org/licenses/gpl.html"
   ]
  },
  {
   "cell_type": "code",
   "execution_count": 1,
   "metadata": {
    "collapsed": true
   },
   "outputs": [],
   "source": [
    "%matplotlib inline"
   ]
  },
  {
   "cell_type": "code",
   "execution_count": 2,
   "metadata": {
    "collapsed": true
   },
   "outputs": [],
   "source": [
    "import random\n",
    "\n",
    "import thinkbayes2\n",
    "import thinkplot"
   ]
  },
  {
   "cell_type": "code",
   "execution_count": 3,
   "metadata": {
    "collapsed": true
   },
   "outputs": [],
   "source": [
    "def MakePmfFromCdf(cdf, name=None):\n",
    "    \"\"\"Makes a normalized Pmf from a Cdf object.\n",
    "\n",
    "    Args:\n",
    "        cdf: Cdf object\n",
    "        name: string name for the new Pmf\n",
    "\n",
    "    Returns:\n",
    "        Pmf object\n",
    "    \"\"\"\n",
    "    if name is None:\n",
    "        name = cdf.label\n",
    "\n",
    "    pmf = thinkbayes2.Pmf(label=name)\n",
    "\n",
    "    prev = 0.0\n",
    "    for val, prob in cdf.Items():\n",
    "        pmf.Incr(val, prob)\n",
    "    return pmf"
   ]
  },
  {
   "cell_type": "code",
   "execution_count": 4,
   "metadata": {
    "collapsed": true
   },
   "outputs": [],
   "source": [
    "class Die(thinkbayes2.Pmf):\n",
    "    \"\"\"Represents the PMF of outcomes for a die.\"\"\"\n",
    "\n",
    "    def __init__(self, sides, name=''):\n",
    "        \"\"\"Initializes the die.\n",
    "\n",
    "        sides: int number of sides\n",
    "        name: string\n",
    "        \"\"\"\n",
    "        thinkbayes2.Pmf.__init__(self, label=name)\n",
    "        for x in range(1, sides+1):\n",
    "            self.Set(x, 1)\n",
    "        self.Normalize()"
   ]
  },
  {
   "cell_type": "code",
   "execution_count": 5,
   "metadata": {
    "collapsed": true
   },
   "outputs": [],
   "source": [
    "def PmfMax(pmf1, pmf2):\n",
    "    \"\"\"Computes the distribution of the max of values drawn from two Pmfs.\n",
    "\n",
    "    pmf1, pmf2: Pmf objects\n",
    "\n",
    "    returns: new Pmf\n",
    "    \"\"\"\n",
    "    res = thinkbayes2.Pmf()\n",
    "    for v1, p1 in pmf1.Items():\n",
    "        for v2, p2 in pmf2.Items():\n",
    "            res.Incr(max(v1, v2), p1*p2)\n",
    "    return res"
   ]
  },
  {
   "cell_type": "code",
   "execution_count": 6,
   "metadata": {
    "collapsed": false
   },
   "outputs": [
    {
     "data": {
      "image/png": "[encoded data removed]",
      "text/plain": [
       "<matplotlib.figure.Figure at 0x6c2c2fb0>"
      ]
     },
     "metadata": {},
     "output_type": "display_data"
    }
   ],
   "source": [
    "pmf_dice = thinkbayes2.Pmf()\n",
    "pmf_dice.Set(Die(4), 5)\n",
    "pmf_dice.Set(Die(6), 4)\n",
    "pmf_dice.Set(Die(8), 3)\n",
    "pmf_dice.Set(Die(12), 2)\n",
    "pmf_dice.Set(Die(20), 1)\n",
    "pmf_dice.Normalize()\n",
    "\n",
    "mix = thinkbayes2.Pmf()\n",
    "for die, weight in pmf_dice.Items():\n",
    "    for outcome, prob in die.Items():\n",
    "        mix.Incr(outcome, weight*prob)\n",
    "\n",
    "mix = thinkbayes2.MakeMixture(pmf_dice)\n",
    "\n",
    "colors = thinkplot._Brewer.Colors()\n",
    "thinkplot.Hist(mix, width=0.9, color=colors[4])\n",
    "thinkplot.Config(xlabel='Outcome',\n",
    "                 ylabel='Probability')"
   ]
  },
  {
   "cell_type": "code",
   "execution_count": 9,
   "metadata": {
    "collapsed": false,
    "scrolled": true
   },
   "outputs": [
    {
     "name": "stdout",
     "output_type": "stream",
     "text": [
      "3 0.002\n",
      "4 0.017\n",
      "5 0.017\n",
      "6 0.046\n",
      "7 0.062\n",
      "8 0.095\n",
      "9 0.125\n",
      "10 0.123\n",
      "11 0.132\n",
      "12 0.127\n",
      "13 0.099\n",
      "14 0.075\n",
      "15 0.044\n",
      "16 0.022\n",
      "17 0.014\n"
     ]
    }
   ],
   "source": [
    "random.seed(17)\n",
    "\n",
    "d6 = Die(6, 'd6')\n",
    "\n",
    "dice = [d6] * 3\n",
    "three = thinkbayes2.SampleSum(dice, 1000)\n",
    "three.label = 'sample'\n",
    "three.Print()"
   ]
  },
  {
   "cell_type": "code",
   "execution_count": 10,
   "metadata": {
    "collapsed": false
   },
   "outputs": [
    {
     "name": "stdout",
     "output_type": "stream",
     "text": [
      "3 0.004629629629629629\n",
      "4 0.013888888888888888\n",
      "5 0.027777777777777776\n",
      "6 0.046296296296296294\n",
      "7 0.06944444444444445\n",
      "8 0.09722222222222222\n",
      "9 0.11574074074074073\n",
      "10 0.125\n",
      "11 0.125\n",
      "12 0.11574074074074074\n",
      "13 0.09722222222222224\n",
      "14 0.06944444444444445\n",
      "15 0.046296296296296294\n",
      "16 0.027777777777777776\n",
      "17 0.013888888888888888\n",
      "18 0.004629629629629629\n"
     ]
    },
    {
     "data": {
      "image/png": "[encoded data removed]",
      "text/plain": [
       "<matplotlib.figure.Figure at 0x6c2c23f0>"
      ]
     },
     "metadata": {},
     "output_type": "display_data"
    }
   ],
   "source": [
    "three_exact = d6 + d6 + d6\n",
    "three_exact.label = 'exact'\n",
    "three_exact.Print()\n",
    "thinkplot.PrePlot(num=2)\n",
    "thinkplot.Pmf(three)\n",
    "thinkplot.Pmf(three_exact, linestyle='dashed')\n",
    "thinkplot.Config(xlabel='Sum of three d6',\n",
    "                 ylabel='Probability',\n",
    "                 axis=[2, 19, 0, 0.15])"
   ]
  },
  {
   "cell_type": "code",
   "execution_count": 14,
   "metadata": {
    "collapsed": false
   },
   "outputs": [
    {
     "data": {
      "image/png": "[encoded data removed]",
      "text/plain": [
       "<matplotlib.figure.Figure at 0x6c0bdfd0>"
      ]
     },
     "metadata": {},
     "output_type": "display_data"
    }
   ],
   "source": [
    "thinkplot.PrePlot(num=1)\n",
    "    \n",
    "    # compute the distribution of the best attribute the hard way\n",
    "best_attr2 = PmfMax(three_exact, three_exact)\n",
    "best_attr4 = PmfMax(best_attr2, best_attr2)\n",
    "best_attr6 = PmfMax(best_attr4, best_attr2)\n",
    "best_attr6.label = 'best attr'\n",
    "thinkplot.Pmf(best_attr6)\n",
    "thinkplot.Config(xlabel='Sum of three d6',\n",
    "                 ylabel='Probability',\n",
    "                 axis=[2, 19, 0, 0.23])"
   ]
  },
  {
   "cell_type": "code",
   "execution_count": 13,
   "metadata": {
    "collapsed": false,
    "scrolled": false
   },
   "outputs": [
    {
     "name": "stdout",
     "output_type": "stream",
     "text": [
      "3 9.84640042005e-15\n",
      "4 4.03210097201e-11\n",
      "5 9.80606956393e-09\n",
      "6 6.20323226463e-07\n",
      "7 1.74701297953e-05\n",
      "8 0.000285572333648\n",
      "9 0.00247724167357\n",
      "10 0.0128440856934\n",
      "11 0.0439796447754\n",
      "12 0.105590541894\n",
      "13 0.18102225454\n",
      "14 0.212013521417\n",
      "15 0.194224527556\n",
      "16 0.141452169514\n",
      "17 0.0786340868805\n",
      "18 0.0274582534226\n"
     ]
    },
    {
     "data": {
      "image/png": "[encoded data removed]",
      "text/plain": [
       "<matplotlib.figure.Figure at 0x6c0a7bf0>"
      ]
     },
     "metadata": {},
     "output_type": "display_data"
    }
   ],
   "source": [
    "    # and the easy way\n",
    "best_attr_cdf = three_exact.Max(6)\n",
    "best_attr_pmf = MakePmfFromCdf(best_attr_cdf)\n",
    "best_attr_pmf.Print()\n",
    "thinkplot.Pmf(best_attr_pmf)\n",
    "thinkplot.Config(xlabel='Sum of three d6',\n",
    "                 ylabel='Probability',\n",
    "                 axis=[2, 19, 0, 0.23])"
   ]
  },
  {
   "cell_type": "code",
   "execution_count": null,
   "metadata": {
    "collapsed": true
   },
   "outputs": [],
   "source": []
  }
 ],
 "metadata": {
  "kernelspec": {
   "display_name": "Python 3",
   "language": "python",
   "name": "python3"
  },
  "language_info": {
   "codemirror_mode": {
    "name": "ipython",
    "version": 3
   },
   "file_extension": ".py",
   "mimetype": "text/x-python",
   "name": "python",
   "nbconvert_exporter": "python",
   "pygments_lexer": "ipython3",
   "version": "3.4.2"
  }
 },
 "nbformat": 4,
 "nbformat_minor": 0
}
